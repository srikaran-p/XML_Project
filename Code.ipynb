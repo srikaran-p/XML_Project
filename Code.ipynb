{
  "nbformat": 4,
  "nbformat_minor": 0,
  "metadata": {
    "colab": {
      "provenance": [],
      "gpuType": "T4"
    },
    "kernelspec": {
      "name": "python3",
      "display_name": "Python 3"
    },
    "language_info": {
      "name": "python"
    },
    "accelerator": "GPU"
  },
  "cells": [
    {
      "cell_type": "code",
      "execution_count": 1,
      "metadata": {
        "id": "g7YMNqY--gDR"
      },
      "outputs": [],
      "source": [
        "import torch\n",
        "import torchvision\n",
        "import torch.nn as nn\n",
        "import numpy as np\n",
        "import datetime\n",
        "import os, sys\n",
        "from matplotlib.pyplot import imshow, imsave\n",
        "from torch.utils.data.dataset import Dataset\n",
        "from torch.utils.data import DataLoader\n",
        "from torchvision import datasets\n",
        "from torchvision import transforms\n",
        "%matplotlib inline"
      ]
    },
    {
      "cell_type": "code",
      "source": [
        "MODEL_NAME = 'DANN'\n",
        "DEVICE = torch.device(\"cuda\" if torch.cuda.is_available() else \"cpu\")"
      ],
      "metadata": {
        "id": "H9558-9k-0I3"
      },
      "execution_count": 2,
      "outputs": []
    },
    {
      "cell_type": "code",
      "source": [
        "class FeatureExtractor(nn.Module):\n",
        "    \"\"\"\n",
        "        Feature Extractor\n",
        "    \"\"\"\n",
        "    def __init__(self, in_channel=1, hidden_dims=512):\n",
        "        super(FeatureExtractor, self).__init__()\n",
        "\n",
        "        self.conv = nn.Sequential(\n",
        "            nn.Conv2d(in_channel, 64, 3, padding=1),\n",
        "            nn.BatchNorm2d(64),\n",
        "            nn.ReLU(inplace=False),\n",
        "            nn.Conv2d(64, 128, 3, padding=1),\n",
        "            nn.BatchNorm2d(128),\n",
        "            nn.ReLU(inplace=False),\n",
        "            nn.Conv2d(128, 256, 3, padding=1),\n",
        "            nn.BatchNorm2d(256),\n",
        "            nn.ReLU(inplace=False),\n",
        "            nn.Conv2d(256, 256, 3, padding=1),\n",
        "            nn.BatchNorm2d(256),\n",
        "            nn.ReLU(inplace=False),\n",
        "            nn.Conv2d(256, hidden_dims, 3, padding=1),\n",
        "            nn.BatchNorm2d(hidden_dims),\n",
        "            nn.ReLU(inplace=False),\n",
        "            nn.AdaptiveAvgPool2d((1,1)),\n",
        "        )\n",
        "\n",
        "#         self.gradients = None\n",
        "#         self.features_conv = self.conv[:15]\n",
        "\n",
        "#     def activations_hook(self, grad):\n",
        "#         self.gradients = grad\n",
        "\n",
        "#     def get_activations_gradient(self):\n",
        "#         return self.gradients\n",
        "\n",
        "#     def get_activations(self, x):\n",
        "#         return self.features_conv(x)\n",
        "\n",
        "    def forward(self, x):\n",
        "        h = self.conv(x).squeeze() # (N, hidden_dims)\n",
        "        return h"
      ],
      "metadata": {
        "id": "gl-vUF63-07U"
      },
      "execution_count": 14,
      "outputs": []
    },
    {
      "cell_type": "code",
      "source": [
        "class Classifier(nn.Module):\n",
        "    \"\"\"\n",
        "        Classifier\n",
        "    \"\"\"\n",
        "    def __init__(self, input_size=512, num_classes=10):\n",
        "        super(Classifier, self).__init__()\n",
        "        self.layer = nn.Sequential(\n",
        "            nn.Linear(input_size, 256),\n",
        "            nn.ReLU(inplace=False),\n",
        "            nn.Linear(256, num_classes),\n",
        "        )\n",
        "\n",
        "    def forward(self, h):\n",
        "        c = self.layer(h)\n",
        "        return c"
      ],
      "metadata": {
        "id": "vLg4r2iX_LHm"
      },
      "execution_count": 15,
      "outputs": []
    },
    {
      "cell_type": "code",
      "source": [
        "class Discriminator(nn.Module):\n",
        "    \"\"\"\n",
        "        Simple Discriminator w/ MLP\n",
        "    \"\"\"\n",
        "    def __init__(self, input_size=512, num_classes=1):\n",
        "        super(Discriminator, self).__init__()\n",
        "\n",
        "        self.layer = nn.Sequential(\n",
        "            nn.Linear(input_size, 256),\n",
        "            nn.LeakyReLU(0.2),\n",
        "            nn.Linear(256, 128),\n",
        "            nn.LeakyReLU(0.2),\n",
        "            nn.Linear(128, num_classes),\n",
        "            nn.Sigmoid(),\n",
        "        )\n",
        "\n",
        "#         self.gradients = None\n",
        "#         self.features_conv = self.layer[:4]\n",
        "\n",
        "#     def activations_hook(self, grad):\n",
        "#         self.gradients = grad\n",
        "\n",
        "#     def get_activations_gradient(self):\n",
        "#         return self.gradients\n",
        "\n",
        "#     def get_activations(self, x):\n",
        "#         return self.features_conv(x)\n",
        "\n",
        "    def forward(self, h):\n",
        "        y = self.layer(h)\n",
        "        return y"
      ],
      "metadata": {
        "id": "pS9qWC8LDoHO"
      },
      "execution_count": 16,
      "outputs": []
    },
    {
      "cell_type": "code",
      "source": [
        "%cd .."
      ],
      "metadata": {
        "colab": {
          "base_uri": "https://localhost:8080/"
        },
        "id": "c62ulL9-PE3x",
        "outputId": "f8235b9f-d092-425d-f771-3929a041bac7"
      },
      "execution_count": 21,
      "outputs": [
        {
          "output_type": "stream",
          "name": "stdout",
          "text": [
            "/content\n"
          ]
        }
      ]
    },
    {
      "cell_type": "code",
      "source": [
        "# F = FeatureExtractor().to(DEVICE)\n",
        "# C = Classifier().to(DEVICE)\n",
        "# D = Discriminator().to(DEVICE)\n",
        "\n",
        "F = FeatureExtractor().to(DEVICE)\n",
        "# F.load_state_dict(torch.load(\"F_params\"))\n",
        "F.eval()\n",
        "\n",
        "C = Classifier().to(DEVICE)\n",
        "# C.load_state_dict(torch.load(\"C_params\"))\n",
        "C.eval()\n",
        "\n",
        "D = Discriminator().to(DEVICE)\n",
        "# D.load_state_dict(torch.load(\"D_params\"))\n",
        "D.eval()"
      ],
      "metadata": {
        "colab": {
          "base_uri": "https://localhost:8080/"
        },
        "id": "Jncvrx50-2jl",
        "outputId": "0e04a579-72a3-4b05-d597-8aba33d106f9"
      },
      "execution_count": 67,
      "outputs": [
        {
          "output_type": "execute_result",
          "data": {
            "text/plain": [
              "Discriminator(\n",
              "  (layer): Sequential(\n",
              "    (0): Linear(in_features=512, out_features=256, bias=True)\n",
              "    (1): LeakyReLU(negative_slope=0.2)\n",
              "    (2): Linear(in_features=256, out_features=128, bias=True)\n",
              "    (3): LeakyReLU(negative_slope=0.2)\n",
              "    (4): Linear(in_features=128, out_features=1, bias=True)\n",
              "    (5): Sigmoid()\n",
              "  )\n",
              ")"
            ]
          },
          "metadata": {},
          "execution_count": 67
        }
      ]
    },
    {
      "cell_type": "code",
      "source": [
        "transform = transforms.Compose([\n",
        "    transforms.Grayscale(1),\n",
        "    transforms.Resize(28),\n",
        "    transforms.ToTensor(),\n",
        "    transforms.Normalize(mean=[0.5],\n",
        "                         std=[0.5])\n",
        "])"
      ],
      "metadata": {
        "id": "i_ETcNOWDqSI"
      },
      "execution_count": 68,
      "outputs": []
    },
    {
      "cell_type": "code",
      "source": [
        "mnist_train = datasets.MNIST(root='../data/', train=True, transform=transform, download=True)\n",
        "mnist_test = datasets.MNIST(root='../data/', train=False, transform=transform, download=True)"
      ],
      "metadata": {
        "colab": {
          "base_uri": "https://localhost:8080/"
        },
        "id": "MfEJPhBS-3u0",
        "outputId": "aa2ad762-394a-4a30-d948-4df824e0a1e2"
      },
      "execution_count": 69,
      "outputs": [
        {
          "output_type": "stream",
          "name": "stdout",
          "text": [
            "Downloading http://yann.lecun.com/exdb/mnist/train-images-idx3-ubyte.gz\n",
            "Downloading http://yann.lecun.com/exdb/mnist/train-images-idx3-ubyte.gz to ../data/MNIST/raw/train-images-idx3-ubyte.gz\n"
          ]
        },
        {
          "output_type": "stream",
          "name": "stderr",
          "text": [
            "100%|██████████| 9912422/9912422 [00:00<00:00, 67963819.58it/s]\n"
          ]
        },
        {
          "output_type": "stream",
          "name": "stdout",
          "text": [
            "Extracting ../data/MNIST/raw/train-images-idx3-ubyte.gz to ../data/MNIST/raw\n",
            "\n",
            "Downloading http://yann.lecun.com/exdb/mnist/train-labels-idx1-ubyte.gz\n",
            "Downloading http://yann.lecun.com/exdb/mnist/train-labels-idx1-ubyte.gz to ../data/MNIST/raw/train-labels-idx1-ubyte.gz\n"
          ]
        },
        {
          "output_type": "stream",
          "name": "stderr",
          "text": [
            "100%|██████████| 28881/28881 [00:00<00:00, 102397036.20it/s]\n"
          ]
        },
        {
          "output_type": "stream",
          "name": "stdout",
          "text": [
            "Extracting ../data/MNIST/raw/train-labels-idx1-ubyte.gz to ../data/MNIST/raw\n",
            "\n",
            "Downloading http://yann.lecun.com/exdb/mnist/t10k-images-idx3-ubyte.gz\n",
            "Downloading http://yann.lecun.com/exdb/mnist/t10k-images-idx3-ubyte.gz to ../data/MNIST/raw/t10k-images-idx3-ubyte.gz\n"
          ]
        },
        {
          "output_type": "stream",
          "name": "stderr",
          "text": [
            "100%|██████████| 1648877/1648877 [00:00<00:00, 31159260.73it/s]\n"
          ]
        },
        {
          "output_type": "stream",
          "name": "stdout",
          "text": [
            "Extracting ../data/MNIST/raw/t10k-images-idx3-ubyte.gz to ../data/MNIST/raw\n",
            "\n",
            "Downloading http://yann.lecun.com/exdb/mnist/t10k-labels-idx1-ubyte.gz\n",
            "Downloading http://yann.lecun.com/exdb/mnist/t10k-labels-idx1-ubyte.gz to ../data/MNIST/raw/t10k-labels-idx1-ubyte.gz\n"
          ]
        },
        {
          "output_type": "stream",
          "name": "stderr",
          "text": [
            "100%|██████████| 4542/4542 [00:00<00:00, 20506489.52it/s]\n"
          ]
        },
        {
          "output_type": "stream",
          "name": "stdout",
          "text": [
            "Extracting ../data/MNIST/raw/t10k-labels-idx1-ubyte.gz to ../data/MNIST/raw\n",
            "\n"
          ]
        }
      ]
    },
    {
      "cell_type": "code",
      "source": [
        "svhn_train = datasets.SVHN(root='../data/', split='train', transform=transform, download=True)\n",
        "svhn_test = datasets.SVHN(root='../data/', split='test', transform=transform, download=True)"
      ],
      "metadata": {
        "colab": {
          "base_uri": "https://localhost:8080/"
        },
        "id": "PyU-5-dl-4YM",
        "outputId": "7871281a-2bc1-4d1d-93c1-fadf8e1b6846"
      },
      "execution_count": 25,
      "outputs": [
        {
          "output_type": "stream",
          "name": "stdout",
          "text": [
            "Downloading http://ufldl.stanford.edu/housenumbers/train_32x32.mat to ../data/train_32x32.mat\n"
          ]
        },
        {
          "output_type": "stream",
          "name": "stderr",
          "text": [
            "100%|██████████| 182040794/182040794 [00:08<00:00, 21284158.54it/s]\n"
          ]
        },
        {
          "output_type": "stream",
          "name": "stdout",
          "text": [
            "Downloading http://ufldl.stanford.edu/housenumbers/test_32x32.mat to ../data/test_32x32.mat\n"
          ]
        },
        {
          "output_type": "stream",
          "name": "stderr",
          "text": [
            "100%|██████████| 64275384/64275384 [00:03<00:00, 20747732.79it/s]\n"
          ]
        }
      ]
    },
    {
      "cell_type": "code",
      "source": [
        "mmnist_train = torchvision.datasets.ImageFolder(root='training', transform=transform)\n",
        "mmnist_test = torchvision.datasets.ImageFolder(root='testing', transform=transform)"
      ],
      "metadata": {
        "id": "fFY6EzBbP_eO"
      },
      "execution_count": 53,
      "outputs": []
    },
    {
      "cell_type": "code",
      "source": [
        "batch_size = 64"
      ],
      "metadata": {
        "id": "KjhpIq0s-52N"
      },
      "execution_count": 54,
      "outputs": []
    },
    {
      "cell_type": "code",
      "source": [
        "# svhn_loader = DataLoader(dataset=svhn_train, batch_size=batch_size, shuffle=True, drop_last=True)\n",
        "svhn_loader = DataLoader(dataset=mmnist_train, batch_size=batch_size, shuffle=True, drop_last=True)\n",
        "mnist_loader = DataLoader(dataset=mnist_train, batch_size=batch_size, shuffle=True, drop_last=True)\n",
        "# eval_loader = DataLoader(dataset=svhn_test, batch_size=batch_size, shuffle=False, drop_last=False)\n",
        "eval_loader = DataLoader(dataset=mmnist_test, batch_size=batch_size, shuffle=False, drop_last=False)\n",
        "test_loader = DataLoader(dataset=mnist_test, batch_size=batch_size, shuffle=False, drop_last=False)\n"
      ],
      "metadata": {
        "id": "rxW9fRBA_E0M"
      },
      "execution_count": 70,
      "outputs": []
    },
    {
      "cell_type": "code",
      "source": [
        "bce = nn.BCELoss()\n",
        "xe = nn.CrossEntropyLoss()"
      ],
      "metadata": {
        "id": "Axif7Sdv_F_e"
      },
      "execution_count": 71,
      "outputs": []
    },
    {
      "cell_type": "code",
      "source": [
        "F_opt = torch.optim.Adam(F.parameters())\n",
        "C_opt = torch.optim.Adam(C.parameters())\n",
        "D_opt = torch.optim.Adam(D.parameters())"
      ],
      "metadata": {
        "id": "Te5AvOQz_HaC"
      },
      "execution_count": 72,
      "outputs": []
    },
    {
      "cell_type": "code",
      "source": [
        "max_epoch = 20\n",
        "step = 0\n",
        "n_critic = 1 # for training more k steps about Discriminator\n",
        "n_batches = len(mnist_train)//batch_size\n",
        "# lambda = 0.01"
      ],
      "metadata": {
        "id": "JnA3J5rz_OQM"
      },
      "execution_count": 73,
      "outputs": []
    },
    {
      "cell_type": "code",
      "source": [
        "D_src = torch.ones(batch_size, 1).to(DEVICE) # Discriminator Label to real\n",
        "D_tgt = torch.zeros(batch_size, 1).to(DEVICE) # Discriminator Label to fake\n",
        "D_labels = torch.cat([D_src, D_tgt], dim=0)"
      ],
      "metadata": {
        "id": "EH0DEzYjDyUP"
      },
      "execution_count": 74,
      "outputs": []
    },
    {
      "cell_type": "markdown",
      "source": [
        "### Training Code"
      ],
      "metadata": {
        "id": "YWXi9lcyD7Nd"
      }
    },
    {
      "cell_type": "code",
      "source": [
        "def get_lambda(epoch, max_epoch):\n",
        "    p = epoch / max_epoch\n",
        "    return 2. / (1+np.exp(-10.*p)) - 1."
      ],
      "metadata": {
        "id": "BVatZaHeAKGT"
      },
      "execution_count": 75,
      "outputs": []
    },
    {
      "cell_type": "code",
      "source": [
        "mnist_set = iter(mnist_loader)\n",
        "\n",
        "def sample_mnist(step, n_batches):\n",
        "    global mnist_set\n",
        "    if step % n_batches == 0:\n",
        "        mnist_set = iter(mnist_loader)\n",
        "    return next(mnist_set)"
      ],
      "metadata": {
        "id": "t1iiC9FCD_gK"
      },
      "execution_count": 76,
      "outputs": []
    },
    {
      "cell_type": "code",
      "source": [
        "ll_c, ll_d = [], []\n",
        "acc_lst = []"
      ],
      "metadata": {
        "id": "6QG5Ec4HEAim"
      },
      "execution_count": 77,
      "outputs": []
    },
    {
      "cell_type": "code",
      "source": [
        "# Target = MNIST\n",
        "# Source = SVHN\n",
        "\n",
        "for epoch in range(1, max_epoch+1):\n",
        "    for idx, (src_images, labels) in enumerate(svhn_loader):\n",
        "        tgt_images, _ = sample_mnist(step, n_batches)\n",
        "        # Training Discriminator\n",
        "        src, labels, tgt = src_images.to(DEVICE), labels.to(DEVICE), tgt_images.to(DEVICE)\n",
        "\n",
        "        # x = [source, target]\n",
        "        x = torch.cat([src, tgt], dim=0)\n",
        "        # Pass it to the feature extractor\n",
        "        h = F(x)\n",
        "        # Pass it to the discriminator\n",
        "        y = D(h.detach())\n",
        "\n",
        "        # Discriminator incurs a loss\n",
        "        Ld = bce(y, D_labels)\n",
        "        # Back prop the discriminator\n",
        "        D.zero_grad()\n",
        "        Ld.backward()\n",
        "        D_opt.step()\n",
        "\n",
        "        # Pass it through the classifier\n",
        "        c = C(h[:batch_size])\n",
        "        # Pass it to the discriminator\n",
        "        y = D(h)\n",
        "        # SVHN calculating loss\n",
        "        Lc = xe(c, labels)\n",
        "        # Discriminator calculating loss\n",
        "        Ld = bce(y, D_labels)\n",
        "        lamda = 0.1*get_lambda(epoch, max_epoch)\n",
        "        # Weighted loss usign classifier loss and discriminator loss\n",
        "        Ltot = Lc -lamda*Ld\n",
        "\n",
        "\n",
        "        F.zero_grad()\n",
        "        C.zero_grad()\n",
        "        D.zero_grad()\n",
        "\n",
        "        Ltot.backward()\n",
        "\n",
        "        C_opt.step()\n",
        "        F_opt.step()\n",
        "\n",
        "        if step % 100 == 0:\n",
        "            dt = datetime.datetime.now().strftime('%H:%M:%S')\n",
        "            print('Epoch: {}/{}, Step: {}, D Loss: {:.4f}, C Loss: {:.4f}, lambda: {:.4f} ---- {}'.format(epoch, max_epoch, step, Ld.item(), Lc.item(), lamda, dt))\n",
        "            ll_c.append(Lc)\n",
        "            ll_d.append(Ld)\n",
        "\n",
        "        if step % 500 == 0:\n",
        "            F.eval()\n",
        "            C.eval()\n",
        "            with torch.no_grad():\n",
        "                corrects = torch.zeros(1).to(DEVICE)\n",
        "                for idx, (src, labels) in enumerate(eval_loader):\n",
        "                    src, labels = src.to(DEVICE), labels.to(DEVICE)\n",
        "                    c = C(F(src))\n",
        "                    _, preds = torch.max(c, 1)\n",
        "                    corrects += (preds == labels).sum()\n",
        "                acc = corrects.item() / len(eval_loader.dataset)\n",
        "                print('***** Eval Result: {:.4f}, Step: {}'.format(acc, step))\n",
        "\n",
        "                corrects = torch.zeros(1).to(DEVICE)\n",
        "                for idx, (tgt, labels) in enumerate(test_loader):\n",
        "                    tgt, labels = tgt.to(DEVICE), labels.to(DEVICE)\n",
        "                    c = C(F(tgt))\n",
        "                    _, preds = torch.max(c, 1)\n",
        "                    corrects += (preds == labels).sum()\n",
        "                acc = corrects.item() / len(test_loader.dataset)\n",
        "                print('***** Test Result: {:.4f}, Step: {}'.format(acc, step))\n",
        "                acc_lst.append(acc)\n",
        "\n",
        "            F.train()\n",
        "            C.train()\n",
        "        step += 1"
      ],
      "metadata": {
        "colab": {
          "base_uri": "https://localhost:8080/",
          "height": 1000
        },
        "id": "0QEuZtgdEBsV",
        "outputId": "e74f4d58-93b9-416d-dc7f-f2cafaa49e3b"
      },
      "execution_count": 78,
      "outputs": [
        {
          "output_type": "stream",
          "name": "stdout",
          "text": [
            "Epoch: 1/20, Step: 0, D Loss: 0.6929, C Loss: 2.3018, lambda: 0.0245 ---- 19:07:48\n",
            "***** Eval Result: 0.0951, Step: 0\n",
            "***** Test Result: 0.0958, Step: 0\n",
            "Epoch: 1/20, Step: 100, D Loss: 1.1432, C Loss: 2.2925, lambda: 0.0245 ---- 19:08:12\n",
            "Epoch: 1/20, Step: 200, D Loss: 0.5377, C Loss: 2.1849, lambda: 0.0245 ---- 19:08:27\n",
            "Epoch: 1/20, Step: 300, D Loss: 0.3510, C Loss: 2.0578, lambda: 0.0245 ---- 19:08:43\n",
            "Epoch: 1/20, Step: 400, D Loss: 0.2488, C Loss: 2.0989, lambda: 0.0245 ---- 19:08:58\n",
            "Epoch: 1/20, Step: 500, D Loss: 0.3319, C Loss: 2.0583, lambda: 0.0245 ---- 19:09:13\n",
            "***** Eval Result: 0.2383, Step: 500\n",
            "***** Test Result: 0.2813, Step: 500\n",
            "Epoch: 1/20, Step: 600, D Loss: 0.7625, C Loss: 1.9448, lambda: 0.0245 ---- 19:09:38\n",
            "Epoch: 1/20, Step: 700, D Loss: 0.5637, C Loss: 1.9457, lambda: 0.0245 ---- 19:09:53\n",
            "Epoch: 1/20, Step: 800, D Loss: 0.3419, C Loss: 1.9586, lambda: 0.0245 ---- 19:10:08\n",
            "Epoch: 1/20, Step: 900, D Loss: 0.3447, C Loss: 1.8439, lambda: 0.0245 ---- 19:10:24\n",
            "Epoch: 2/20, Step: 1000, D Loss: 0.6512, C Loss: 1.9180, lambda: 0.0462 ---- 19:10:39\n",
            "***** Eval Result: 0.3544, Step: 1000\n",
            "***** Test Result: 0.4988, Step: 1000\n",
            "Epoch: 2/20, Step: 1100, D Loss: 0.4939, C Loss: 1.3981, lambda: 0.0462 ---- 19:11:04\n",
            "Epoch: 2/20, Step: 1200, D Loss: 0.5529, C Loss: 1.6149, lambda: 0.0462 ---- 19:11:19\n",
            "Epoch: 2/20, Step: 1300, D Loss: 0.4902, C Loss: 1.3802, lambda: 0.0462 ---- 19:11:34\n",
            "Epoch: 2/20, Step: 1400, D Loss: 0.5026, C Loss: 1.5563, lambda: 0.0462 ---- 19:11:50\n",
            "Epoch: 2/20, Step: 1500, D Loss: 0.4729, C Loss: 1.5080, lambda: 0.0462 ---- 19:12:05\n",
            "***** Eval Result: 0.3349, Step: 1500\n",
            "***** Test Result: 0.6004, Step: 1500\n",
            "Epoch: 2/20, Step: 1600, D Loss: 0.6066, C Loss: 1.3071, lambda: 0.0462 ---- 19:12:29\n",
            "Epoch: 2/20, Step: 1700, D Loss: 0.4624, C Loss: 1.0247, lambda: 0.0462 ---- 19:12:45\n",
            "Epoch: 2/20, Step: 1800, D Loss: 0.4880, C Loss: 1.2121, lambda: 0.0462 ---- 19:13:00\n",
            "Epoch: 3/20, Step: 1900, D Loss: 0.4608, C Loss: 1.3059, lambda: 0.0635 ---- 19:13:15\n",
            "Epoch: 3/20, Step: 2000, D Loss: 0.5042, C Loss: 1.3374, lambda: 0.0635 ---- 19:13:31\n",
            "***** Eval Result: 0.6058, Step: 2000\n",
            "***** Test Result: 0.7797, Step: 2000\n",
            "Epoch: 3/20, Step: 2100, D Loss: 0.5017, C Loss: 0.9402, lambda: 0.0635 ---- 19:13:55\n",
            "Epoch: 3/20, Step: 2200, D Loss: 0.5174, C Loss: 1.0928, lambda: 0.0635 ---- 19:14:10\n",
            "Epoch: 3/20, Step: 2300, D Loss: 0.5214, C Loss: 1.0864, lambda: 0.0635 ---- 19:14:25\n",
            "Epoch: 3/20, Step: 2400, D Loss: 0.4248, C Loss: 0.8395, lambda: 0.0635 ---- 19:14:41\n",
            "Epoch: 3/20, Step: 2500, D Loss: 0.5307, C Loss: 1.0382, lambda: 0.0635 ---- 19:14:56\n",
            "***** Eval Result: 0.5920, Step: 2500\n",
            "***** Test Result: 0.7041, Step: 2500\n",
            "Epoch: 3/20, Step: 2600, D Loss: 0.4679, C Loss: 0.9442, lambda: 0.0635 ---- 19:15:20\n",
            "Epoch: 3/20, Step: 2700, D Loss: 0.4892, C Loss: 1.0927, lambda: 0.0635 ---- 19:15:35\n",
            "Epoch: 4/20, Step: 2800, D Loss: 0.4452, C Loss: 1.0391, lambda: 0.0762 ---- 19:15:51\n",
            "Epoch: 4/20, Step: 2900, D Loss: 0.4816, C Loss: 0.9511, lambda: 0.0762 ---- 19:16:06\n",
            "Epoch: 4/20, Step: 3000, D Loss: 0.5031, C Loss: 0.8168, lambda: 0.0762 ---- 19:16:22\n",
            "***** Eval Result: 0.5696, Step: 3000\n",
            "***** Test Result: 0.5929, Step: 3000\n",
            "Epoch: 4/20, Step: 3100, D Loss: 0.6041, C Loss: 0.7167, lambda: 0.0762 ---- 19:16:46\n",
            "Epoch: 4/20, Step: 3200, D Loss: 0.5813, C Loss: 0.6714, lambda: 0.0762 ---- 19:17:01\n",
            "Epoch: 4/20, Step: 3300, D Loss: 0.6102, C Loss: 0.5559, lambda: 0.0762 ---- 19:17:16\n",
            "Epoch: 4/20, Step: 3400, D Loss: 0.5615, C Loss: 0.6289, lambda: 0.0762 ---- 19:17:32\n",
            "Epoch: 4/20, Step: 3500, D Loss: 0.6208, C Loss: 0.6443, lambda: 0.0762 ---- 19:17:47\n",
            "***** Eval Result: 0.7489, Step: 3500\n",
            "***** Test Result: 0.7840, Step: 3500\n",
            "Epoch: 4/20, Step: 3600, D Loss: 0.6461, C Loss: 0.5188, lambda: 0.0762 ---- 19:18:12\n",
            "Epoch: 5/20, Step: 3700, D Loss: 0.5129, C Loss: 0.5649, lambda: 0.0848 ---- 19:18:28\n",
            "Epoch: 5/20, Step: 3800, D Loss: 0.6472, C Loss: 0.6173, lambda: 0.0848 ---- 19:18:43\n",
            "Epoch: 5/20, Step: 3900, D Loss: 0.6447, C Loss: 0.6003, lambda: 0.0848 ---- 19:18:58\n",
            "Epoch: 5/20, Step: 4000, D Loss: 0.6756, C Loss: 0.8500, lambda: 0.0848 ---- 19:19:14\n",
            "***** Eval Result: 0.7359, Step: 4000\n",
            "***** Test Result: 0.8191, Step: 4000\n",
            "Epoch: 5/20, Step: 4100, D Loss: 0.5645, C Loss: 0.5846, lambda: 0.0848 ---- 19:19:38\n",
            "Epoch: 5/20, Step: 4200, D Loss: 0.6869, C Loss: 0.5466, lambda: 0.0848 ---- 19:19:53\n",
            "Epoch: 5/20, Step: 4300, D Loss: 0.6424, C Loss: 0.4978, lambda: 0.0848 ---- 19:20:08\n",
            "Epoch: 5/20, Step: 4400, D Loss: 0.6830, C Loss: 0.5076, lambda: 0.0848 ---- 19:20:24\n",
            "Epoch: 5/20, Step: 4500, D Loss: 0.6145, C Loss: 0.6536, lambda: 0.0848 ---- 19:20:39\n",
            "***** Eval Result: 0.7847, Step: 4500\n",
            "***** Test Result: 0.9007, Step: 4500\n",
            "Epoch: 5/20, Step: 4600, D Loss: 0.6327, C Loss: 0.5645, lambda: 0.0848 ---- 19:21:03\n",
            "Epoch: 6/20, Step: 4700, D Loss: 0.5624, C Loss: 0.5546, lambda: 0.0905 ---- 19:21:18\n",
            "Epoch: 6/20, Step: 4800, D Loss: 0.5987, C Loss: 0.6941, lambda: 0.0905 ---- 19:21:34\n",
            "Epoch: 6/20, Step: 4900, D Loss: 0.6317, C Loss: 0.6182, lambda: 0.0905 ---- 19:21:49\n",
            "Epoch: 6/20, Step: 5000, D Loss: 0.6864, C Loss: 0.4384, lambda: 0.0905 ---- 19:22:04\n",
            "***** Eval Result: 0.8000, Step: 5000\n",
            "***** Test Result: 0.8968, Step: 5000\n",
            "Epoch: 6/20, Step: 5100, D Loss: 0.6514, C Loss: 0.5676, lambda: 0.0905 ---- 19:22:28\n",
            "Epoch: 6/20, Step: 5200, D Loss: 0.5955, C Loss: 0.4085, lambda: 0.0905 ---- 19:22:44\n",
            "Epoch: 6/20, Step: 5300, D Loss: 0.6557, C Loss: 0.5972, lambda: 0.0905 ---- 19:22:59\n",
            "Epoch: 6/20, Step: 5400, D Loss: 0.6028, C Loss: 0.4850, lambda: 0.0905 ---- 19:23:15\n",
            "Epoch: 6/20, Step: 5500, D Loss: 0.6500, C Loss: 0.5155, lambda: 0.0905 ---- 19:23:30\n",
            "***** Eval Result: 0.8070, Step: 5500\n",
            "***** Test Result: 0.8803, Step: 5500\n",
            "Epoch: 7/20, Step: 5600, D Loss: 0.6232, C Loss: 0.5131, lambda: 0.0941 ---- 19:23:54\n",
            "Epoch: 7/20, Step: 5700, D Loss: 0.6380, C Loss: 0.3165, lambda: 0.0941 ---- 19:24:09\n",
            "Epoch: 7/20, Step: 5800, D Loss: 0.5899, C Loss: 0.5271, lambda: 0.0941 ---- 19:24:24\n",
            "Epoch: 7/20, Step: 5900, D Loss: 0.6899, C Loss: 0.4323, lambda: 0.0941 ---- 19:24:40\n",
            "Epoch: 7/20, Step: 6000, D Loss: 0.6517, C Loss: 0.5235, lambda: 0.0941 ---- 19:24:55\n",
            "***** Eval Result: 0.8344, Step: 6000\n",
            "***** Test Result: 0.9267, Step: 6000\n",
            "Epoch: 7/20, Step: 6100, D Loss: 0.6396, C Loss: 0.5257, lambda: 0.0941 ---- 19:25:19\n",
            "Epoch: 7/20, Step: 6200, D Loss: 0.6666, C Loss: 0.6169, lambda: 0.0941 ---- 19:25:34\n",
            "Epoch: 7/20, Step: 6300, D Loss: 0.6971, C Loss: 0.7542, lambda: 0.0941 ---- 19:25:50\n",
            "Epoch: 7/20, Step: 6400, D Loss: 0.6270, C Loss: 0.6080, lambda: 0.0941 ---- 19:26:05\n",
            "Epoch: 8/20, Step: 6500, D Loss: 0.6772, C Loss: 0.5002, lambda: 0.0964 ---- 19:26:20\n",
            "***** Eval Result: 0.8332, Step: 6500\n",
            "***** Test Result: 0.8525, Step: 6500\n",
            "Epoch: 8/20, Step: 6600, D Loss: 0.6807, C Loss: 0.6100, lambda: 0.0964 ---- 19:26:45\n",
            "Epoch: 8/20, Step: 6700, D Loss: 0.6381, C Loss: 0.5885, lambda: 0.0964 ---- 19:27:00\n",
            "Epoch: 8/20, Step: 6800, D Loss: 0.7052, C Loss: 0.2284, lambda: 0.0964 ---- 19:27:15\n",
            "Epoch: 8/20, Step: 6900, D Loss: 0.6425, C Loss: 0.4966, lambda: 0.0964 ---- 19:27:31\n",
            "Epoch: 8/20, Step: 7000, D Loss: 0.7023, C Loss: 0.3568, lambda: 0.0964 ---- 19:27:46\n",
            "***** Eval Result: 0.8292, Step: 7000\n",
            "***** Test Result: 0.8815, Step: 7000\n",
            "Epoch: 8/20, Step: 7100, D Loss: 1.0861, C Loss: 0.4572, lambda: 0.0964 ---- 19:28:11\n"
          ]
        },
        {
          "output_type": "error",
          "ename": "KeyboardInterrupt",
          "evalue": "ignored",
          "traceback": [
            "\u001b[0;31m---------------------------------------------------------------------------\u001b[0m",
            "\u001b[0;31mKeyboardInterrupt\u001b[0m                         Traceback (most recent call last)",
            "\u001b[0;32m<ipython-input-78-f409f6d7dada>\u001b[0m in \u001b[0;36m<cell line: 4>\u001b[0;34m()\u001b[0m\n\u001b[1;32m      6\u001b[0m         \u001b[0mtgt_images\u001b[0m\u001b[0;34m,\u001b[0m \u001b[0m_\u001b[0m \u001b[0;34m=\u001b[0m \u001b[0msample_mnist\u001b[0m\u001b[0;34m(\u001b[0m\u001b[0mstep\u001b[0m\u001b[0;34m,\u001b[0m \u001b[0mn_batches\u001b[0m\u001b[0;34m)\u001b[0m\u001b[0;34m\u001b[0m\u001b[0;34m\u001b[0m\u001b[0m\n\u001b[1;32m      7\u001b[0m         \u001b[0;31m# Training Discriminator\u001b[0m\u001b[0;34m\u001b[0m\u001b[0;34m\u001b[0m\u001b[0m\n\u001b[0;32m----> 8\u001b[0;31m         \u001b[0msrc\u001b[0m\u001b[0;34m,\u001b[0m \u001b[0mlabels\u001b[0m\u001b[0;34m,\u001b[0m \u001b[0mtgt\u001b[0m \u001b[0;34m=\u001b[0m \u001b[0msrc_images\u001b[0m\u001b[0;34m.\u001b[0m\u001b[0mto\u001b[0m\u001b[0;34m(\u001b[0m\u001b[0mDEVICE\u001b[0m\u001b[0;34m)\u001b[0m\u001b[0;34m,\u001b[0m \u001b[0mlabels\u001b[0m\u001b[0;34m.\u001b[0m\u001b[0mto\u001b[0m\u001b[0;34m(\u001b[0m\u001b[0mDEVICE\u001b[0m\u001b[0;34m)\u001b[0m\u001b[0;34m,\u001b[0m \u001b[0mtgt_images\u001b[0m\u001b[0;34m.\u001b[0m\u001b[0mto\u001b[0m\u001b[0;34m(\u001b[0m\u001b[0mDEVICE\u001b[0m\u001b[0;34m)\u001b[0m\u001b[0;34m\u001b[0m\u001b[0;34m\u001b[0m\u001b[0m\n\u001b[0m\u001b[1;32m      9\u001b[0m \u001b[0;34m\u001b[0m\u001b[0m\n\u001b[1;32m     10\u001b[0m         \u001b[0;31m# x = [source, target]\u001b[0m\u001b[0;34m\u001b[0m\u001b[0;34m\u001b[0m\u001b[0m\n",
            "\u001b[0;31mKeyboardInterrupt\u001b[0m: "
          ]
        }
      ]
    },
    {
      "cell_type": "code",
      "source": [
        "torch.save(F.state_dict(), \"F_params3\")\n",
        "torch.save(C.state_dict(), \"C_params3\")\n",
        "torch.save(D.state_dict(), \"D_params3\")"
      ],
      "metadata": {
        "id": "1PrT5-9y__56"
      },
      "execution_count": 96,
      "outputs": []
    },
    {
      "cell_type": "code",
      "source": [
        "class MNISTTestDataset(Dataset):\n",
        "    def __init__(self, images, labels):\n",
        "        self.data_len = len(labels)\n",
        "        self.images_arr = images\n",
        "        self.labels_arr = labels\n",
        "        # self.to_tensor = transforms.ToTensor()\n",
        "\n",
        "    def __getitem__(self, index):\n",
        "        single_image_name = self.images_arr[index]\n",
        "        single_image_name = single_image_name.astype('float32')\n",
        "        # print(single_image_name.dtype)\n",
        "        img_as_tensor = torch.from_numpy(single_image_name)\n",
        "        # img_as_tensor = self.to_tensor(single_image_name)\n",
        "        # print(img_as_tensor.shape)\n",
        "        single_image_label = self.labels_arr[index]\n",
        "        return (img_as_tensor, single_image_label)\n",
        "\n",
        "    def __len__(self):\n",
        "        return self.data_len"
      ],
      "metadata": {
        "id": "poBu0VtIXyFh"
      },
      "execution_count": 80,
      "outputs": []
    },
    {
      "cell_type": "code",
      "source": [
        "labelsArray = []\n",
        "imagesList = []\n",
        "\n",
        "# imagesList.append(mnist_test[0][0].numpy().tolist())\n",
        "\n",
        "# print(np.array(imagesList).shape)\n",
        "\n",
        "# imagesList.append(mnist_test[1][0].numpy().tolist())\n",
        "\n",
        "# print(np.array(imagesList).shape)\n",
        "\n",
        "for idx, (src_images, labels) in enumerate(mnist_test):\n",
        "    src = src_images.to(DEVICE)\n",
        "    val = F(src.unsqueeze(0)).to(DEVICE)\n",
        "    output = C(val)\n",
        "    ans = torch.argmax(output).item()\n",
        "    labelsArray.append(ans)\n",
        "    # print(idx)\n",
        "    imagesList.append(src_images.numpy().tolist())\n",
        "    # if idx == 0:\n",
        "    #     imagesList = src_images.numpy()\n",
        "    # else:\n",
        "    #     np.append(imagesList, src_images.numpy(), axis=1)"
      ],
      "metadata": {
        "id": "fapCt280EEsF"
      },
      "execution_count": 81,
      "outputs": []
    },
    {
      "cell_type": "code",
      "source": [
        "labelsArrayNp = np.array(labelsArray)\n",
        "imagesNp = np.array(imagesList)\n",
        "print(imagesNp.shape)\n",
        "print(labelsArrayNp.shape)"
      ],
      "metadata": {
        "colab": {
          "base_uri": "https://localhost:8080/"
        },
        "id": "y14ex1BWfMnR",
        "outputId": "3096eabe-751c-4dbf-ee49-da44393a20a4"
      },
      "execution_count": 111,
      "outputs": [
        {
          "output_type": "stream",
          "name": "stdout",
          "text": [
            "(10000, 1, 28, 28)\n",
            "(10000,)\n"
          ]
        }
      ]
    },
    {
      "cell_type": "code",
      "source": [
        "newMNISTDataset = MNISTTestDataset(imagesNp, labelsArrayNp)"
      ],
      "metadata": {
        "id": "vOLzEkALGmR7"
      },
      "execution_count": 112,
      "outputs": []
    },
    {
      "cell_type": "code",
      "source": [
        "print(newMNISTDataset[0][0].shape)\n",
        "print(newMNISTDataset[0][0].numpy().shape)\n",
        "\n",
        "img_tensor = newMNISTDataset[0]\n",
        "\n",
        "plt.imshow(img_tensor[0].numpy().reshape((28,28,1)))"
      ],
      "metadata": {
        "colab": {
          "base_uri": "https://localhost:8080/"
        },
        "id": "Dr_3dHBcucS3",
        "outputId": "d7dab03a-d300-4e9e-e693-bf6fa1fce3e1"
      },
      "execution_count": 113,
      "outputs": [
        {
          "output_type": "stream",
          "name": "stdout",
          "text": [
            "torch.Size([1, 28, 28])\n",
            "(1, 28, 28)\n"
          ]
        }
      ]
    },
    {
      "cell_type": "code",
      "source": [
        "FNew = FeatureExtractor().to(DEVICE)\n",
        "# F.load_state_dict(torch.load(\"F_params\"))\n",
        "FNew.eval()\n",
        "\n",
        "CNew = Classifier().to(DEVICE)\n",
        "# C.load_state_dict(torch.load(\"C_params\"))\n",
        "CNew.eval()\n",
        "\n",
        "DNew = Discriminator().to(DEVICE)\n",
        "# D.load_state_dict(torch.load(\"D_params\"))\n",
        "DNew.eval()"
      ],
      "metadata": {
        "colab": {
          "base_uri": "https://localhost:8080/"
        },
        "id": "wrCrf2qOe2U9",
        "outputId": "ce23d7e6-a474-4129-b054-31eebef432bd"
      },
      "execution_count": 114,
      "outputs": [
        {
          "output_type": "execute_result",
          "data": {
            "text/plain": [
              "Discriminator(\n",
              "  (layer): Sequential(\n",
              "    (0): Linear(in_features=512, out_features=256, bias=True)\n",
              "    (1): LeakyReLU(negative_slope=0.2)\n",
              "    (2): Linear(in_features=256, out_features=128, bias=True)\n",
              "    (3): LeakyReLU(negative_slope=0.2)\n",
              "    (4): Linear(in_features=128, out_features=1, bias=True)\n",
              "    (5): Sigmoid()\n",
              "  )\n",
              ")"
            ]
          },
          "metadata": {},
          "execution_count": 114
        }
      ]
    },
    {
      "cell_type": "code",
      "source": [
        "batch_size = 64"
      ],
      "metadata": {
        "id": "_tesl5o9i-83"
      },
      "execution_count": 115,
      "outputs": []
    },
    {
      "cell_type": "code",
      "source": [
        "new_mnist_loader = DataLoader(dataset=newMNISTDataset, batch_size=batch_size, shuffle=True, drop_last=True)\n",
        "new_eval_loader = DataLoader(dataset=mnist_train, batch_size=batch_size, shuffle=True, drop_last=False)\n",
        "new_svhn_loader = DataLoader(dataset=mmnist_test, batch_size=batch_size, shuffle=False, drop_last=True)\n",
        "new_test_loader = DataLoader(dataset=mmnist_train, batch_size=batch_size, shuffle=False, drop_last=False)"
      ],
      "metadata": {
        "id": "GGA0-gnAj1-S"
      },
      "execution_count": 116,
      "outputs": []
    },
    {
      "cell_type": "code",
      "source": [
        "bce = nn.BCELoss()\n",
        "xe = nn.CrossEntropyLoss()"
      ],
      "metadata": {
        "id": "oyoQI-bwlmTg"
      },
      "execution_count": 117,
      "outputs": []
    },
    {
      "cell_type": "code",
      "source": [
        "FNew_opt = torch.optim.Adam(FNew.parameters())\n",
        "CNew_opt = torch.optim.Adam(CNew.parameters())\n",
        "DNew_opt = torch.optim.Adam(DNew.parameters())"
      ],
      "metadata": {
        "id": "MGdwYyw4msIv"
      },
      "execution_count": 118,
      "outputs": []
    },
    {
      "cell_type": "code",
      "source": [
        "max_epoch = 10\n",
        "step = 0\n",
        "n_critic = 1 # for training more k steps about Discriminator\n",
        "n_batches = len(mmnist_test)//batch_size\n",
        "# lambda = 0.01"
      ],
      "metadata": {
        "id": "DIf2Vr7NmwCo"
      },
      "execution_count": 119,
      "outputs": []
    },
    {
      "cell_type": "code",
      "source": [
        "D_src = torch.ones(batch_size, 1).to(DEVICE) # Discriminator Label to real\n",
        "D_tgt = torch.zeros(batch_size, 1).to(DEVICE) # Discriminator Label to fake\n",
        "D_labels = torch.cat([D_src, D_tgt], dim=0)"
      ],
      "metadata": {
        "id": "mi9k_s73m0G-"
      },
      "execution_count": 121,
      "outputs": []
    },
    {
      "cell_type": "markdown",
      "source": [
        "### Training Code"
      ],
      "metadata": {
        "id": "fSQi4X9gnXg-"
      }
    },
    {
      "cell_type": "code",
      "source": [
        "def get_lambda(epoch, max_epoch):\n",
        "    p = epoch / max_epoch\n",
        "    return 2. / (1+np.exp(-10.*p)) - 1."
      ],
      "metadata": {
        "id": "2eiyvEgLm9aA"
      },
      "execution_count": 122,
      "outputs": []
    },
    {
      "cell_type": "code",
      "source": [
        "svhn_set = iter(new_svhn_loader)\n",
        "\n",
        "def sample_svhn(step, n_batches):\n",
        "    global svhn_set\n",
        "    if step % n_batches == 0:\n",
        "        svhn_set = iter(new_svhn_loader)\n",
        "    return next(svhn_set)"
      ],
      "metadata": {
        "id": "T90AD8zRnaOi"
      },
      "execution_count": 123,
      "outputs": []
    },
    {
      "cell_type": "code",
      "source": [
        "ll_c, ll_d = [], []\n",
        "acc_lst = []"
      ],
      "metadata": {
        "id": "4mbFEHyVoydx"
      },
      "execution_count": 124,
      "outputs": []
    },
    {
      "cell_type": "code",
      "source": [
        "# Source = MNIST\n",
        "# Target = SVHN\n",
        "\n",
        "for epoch in range(1, max_epoch+1):\n",
        "    for idx, (src_images, labels) in enumerate(new_mnist_loader):\n",
        "        tgt_images, _ = sample_svhn(step, n_batches)\n",
        "        ## Training Discriminator\n",
        "        src, labels, tgt = src_images.to(DEVICE), labels.to(DEVICE), tgt_images.to(DEVICE)\n",
        "\n",
        "        # x = [source, target]\n",
        "        # print(src.shape)\n",
        "        # print(tgt.shape)\n",
        "        x = torch.cat([src, tgt], dim=0)\n",
        "        # Pass it to the feature extractor\n",
        "        h = FNew(x)\n",
        "        # Pass it to the discriminator\n",
        "        y = DNew(h.detach())\n",
        "\n",
        "        # Discriminator incurs a loss\n",
        "        Ld = bce(y, D_labels)\n",
        "        # Back prop the discriminator\n",
        "        DNew.zero_grad()\n",
        "        Ld.backward()\n",
        "        DNew_opt.step()\n",
        "\n",
        "        # Pass it through the classifier\n",
        "        c = CNew(h[:batch_size])\n",
        "        # Pass it to the discriminator\n",
        "        y = DNew(h)\n",
        "        # SVHN calculating loss\n",
        "        Lc = xe(c, labels)\n",
        "        # Discriminator calculating loss\n",
        "        Ld = bce(y, D_labels)\n",
        "        lamda = 0.1*get_lambda(epoch, max_epoch)\n",
        "        # Weighted loss usign classifier loss and discriminator loss\n",
        "        Ltot = Lc -lamda*Ld\n",
        "\n",
        "\n",
        "        FNew.zero_grad()\n",
        "        CNew.zero_grad()\n",
        "        DNew.zero_grad()\n",
        "\n",
        "        Ltot.backward()\n",
        "\n",
        "        CNew_opt.step()\n",
        "        FNew_opt.step()\n",
        "\n",
        "        if step % 100 == 0:\n",
        "            dt = datetime.datetime.now().strftime('%H:%M:%S')\n",
        "            print('Epoch: {}/{}, Step: {}, D Loss: {:.4f}, C Loss: {:.4f}, lambda: {:.4f} ---- {}'.format(epoch, max_epoch, step, Ld.item(), Lc.item(), lamda, dt))\n",
        "            ll_c.append(Lc)\n",
        "            ll_d.append(Ld)\n",
        "\n",
        "        if step % 300 == 0:\n",
        "            FNew.eval()\n",
        "            CNew.eval()\n",
        "            with torch.no_grad():\n",
        "                corrects = torch.zeros(1).to(DEVICE)\n",
        "                for idx, (src, labels) in enumerate(new_eval_loader):\n",
        "                    src, labels = src.to(DEVICE), labels.to(DEVICE)\n",
        "                    c = CNew(FNew(src))\n",
        "                    _, preds = torch.max(c, 1)\n",
        "                    corrects += (preds == labels).sum()\n",
        "                acc = corrects.item() / len(new_eval_loader.dataset)\n",
        "                print('***** Eval Result: {:.4f}, Step: {}'.format(acc, step))\n",
        "\n",
        "                corrects = torch.zeros(1).to(DEVICE)\n",
        "                for idx, (tgt, labels) in enumerate(new_test_loader):\n",
        "                    tgt, labels = tgt.to(DEVICE), labels.to(DEVICE)\n",
        "                    c = CNew(FNew(tgt))\n",
        "                    _, preds = torch.max(c, 1)\n",
        "                    corrects += (preds == labels).sum()\n",
        "                acc = corrects.item() / len(new_test_loader.dataset)\n",
        "                print('***** Test Result: {:.4f}, Step: {}'.format(acc, step))\n",
        "                acc_lst.append(acc)\n",
        "\n",
        "            FNew.train()\n",
        "            CNew.train()\n",
        "        step += 1"
      ],
      "metadata": {
        "colab": {
          "base_uri": "https://localhost:8080/",
          "height": 540
        },
        "id": "x2QJwFVzozjr",
        "outputId": "30497909-ca4a-4ede-8051-4023a007fa85"
      },
      "execution_count": 126,
      "outputs": [
        {
          "output_type": "stream",
          "name": "stdout",
          "text": [
            "Epoch: 1/10, Step: 1600, D Loss: 0.6889, C Loss: 0.3834, lambda: 0.0462 ---- 19:51:50\n",
            "Epoch: 1/10, Step: 1700, D Loss: 0.6701, C Loss: 0.4508, lambda: 0.0462 ---- 19:52:05\n",
            "Epoch: 2/10, Step: 1800, D Loss: 0.7117, C Loss: 0.3988, lambda: 0.0762 ---- 19:52:21\n",
            "***** Eval Result: 0.2514, Step: 1800\n",
            "***** Test Result: 0.1487, Step: 1800\n",
            "Epoch: 3/10, Step: 1900, D Loss: 0.6881, C Loss: 0.6356, lambda: 0.0905 ---- 19:53:47\n",
            "Epoch: 3/10, Step: 2000, D Loss: 0.6775, C Loss: 0.5580, lambda: 0.0905 ---- 19:54:03\n",
            "Epoch: 4/10, Step: 2100, D Loss: 0.6709, C Loss: 0.5095, lambda: 0.0964 ---- 19:54:18\n",
            "***** Eval Result: 0.2578, Step: 2100\n",
            "***** Test Result: 0.1468, Step: 2100\n",
            "Epoch: 5/10, Step: 2200, D Loss: 0.6780, C Loss: 0.5842, lambda: 0.0987 ---- 19:55:30\n",
            "Epoch: 5/10, Step: 2300, D Loss: 0.7016, C Loss: 0.3376, lambda: 0.0987 ---- 19:55:45\n",
            "Epoch: 6/10, Step: 2400, D Loss: 0.6995, C Loss: 0.4413, lambda: 0.0995 ---- 19:56:00\n",
            "***** Eval Result: 0.2250, Step: 2400\n",
            "***** Test Result: 0.1290, Step: 2400\n",
            "Epoch: 7/10, Step: 2500, D Loss: 0.6919, C Loss: 0.3655, lambda: 0.0998 ---- 19:57:14\n",
            "Epoch: 7/10, Step: 2600, D Loss: 0.7236, C Loss: 0.3962, lambda: 0.0998 ---- 19:57:29\n"
          ]
        },
        {
          "output_type": "error",
          "ename": "KeyboardInterrupt",
          "evalue": "ignored",
          "traceback": [
            "\u001b[0;31m---------------------------------------------------------------------------\u001b[0m",
            "\u001b[0;31mKeyboardInterrupt\u001b[0m                         Traceback (most recent call last)",
            "\u001b[0;32m<ipython-input-126-da99f254b1b7>\u001b[0m in \u001b[0;36m<cell line: 4>\u001b[0;34m()\u001b[0m\n\u001b[1;32m      6\u001b[0m         \u001b[0mtgt_images\u001b[0m\u001b[0;34m,\u001b[0m \u001b[0m_\u001b[0m \u001b[0;34m=\u001b[0m \u001b[0msample_svhn\u001b[0m\u001b[0;34m(\u001b[0m\u001b[0mstep\u001b[0m\u001b[0;34m,\u001b[0m \u001b[0mn_batches\u001b[0m\u001b[0;34m)\u001b[0m\u001b[0;34m\u001b[0m\u001b[0;34m\u001b[0m\u001b[0m\n\u001b[1;32m      7\u001b[0m         \u001b[0;31m## Training Discriminator\u001b[0m\u001b[0;34m\u001b[0m\u001b[0;34m\u001b[0m\u001b[0m\n\u001b[0;32m----> 8\u001b[0;31m         \u001b[0msrc\u001b[0m\u001b[0;34m,\u001b[0m \u001b[0mlabels\u001b[0m\u001b[0;34m,\u001b[0m \u001b[0mtgt\u001b[0m \u001b[0;34m=\u001b[0m \u001b[0msrc_images\u001b[0m\u001b[0;34m.\u001b[0m\u001b[0mto\u001b[0m\u001b[0;34m(\u001b[0m\u001b[0mDEVICE\u001b[0m\u001b[0;34m)\u001b[0m\u001b[0;34m,\u001b[0m \u001b[0mlabels\u001b[0m\u001b[0;34m.\u001b[0m\u001b[0mto\u001b[0m\u001b[0;34m(\u001b[0m\u001b[0mDEVICE\u001b[0m\u001b[0;34m)\u001b[0m\u001b[0;34m,\u001b[0m \u001b[0mtgt_images\u001b[0m\u001b[0;34m.\u001b[0m\u001b[0mto\u001b[0m\u001b[0;34m(\u001b[0m\u001b[0mDEVICE\u001b[0m\u001b[0;34m)\u001b[0m\u001b[0;34m\u001b[0m\u001b[0;34m\u001b[0m\u001b[0m\n\u001b[0m\u001b[1;32m      9\u001b[0m \u001b[0;34m\u001b[0m\u001b[0m\n\u001b[1;32m     10\u001b[0m         \u001b[0;31m# x = [source, target]\u001b[0m\u001b[0;34m\u001b[0m\u001b[0;34m\u001b[0m\u001b[0m\n",
            "\u001b[0;31mKeyboardInterrupt\u001b[0m: "
          ]
        }
      ]
    },
    {
      "cell_type": "markdown",
      "source": [
        "# GradCAM"
      ],
      "metadata": {
        "id": "hKPK2tEndhZ1"
      }
    },
    {
      "cell_type": "code",
      "source": [
        "gradients = None\n",
        "activations = None\n",
        "\n",
        "def backward_hook(module, grad_input, grad_output):\n",
        "    global gradients\n",
        "    print(\"Backward hook running\")\n",
        "    gradients = grad_input\n",
        "    print(f'Gradients size: {gradients[0].size()}')\n",
        "\n",
        "def forward_hook(module, args, output):\n",
        "    global activations\n",
        "    print(\"Forward hook running\")\n",
        "    activations = output\n",
        "    print(f'Activations size: {activations.size()}')\n",
        "\n",
        "backward_hook = F.conv[-2].register_full_backward_hook(backward_hook, prepend=False)\n",
        "forward_hook = F.conv[-2].register_forward_hook(forward_hook, prepend = False)"
      ],
      "metadata": {
        "id": "ybNwY6Rkdlmh"
      },
      "execution_count": 149,
      "outputs": []
    },
    {
      "cell_type": "code",
      "source": [
        "import torch.nn.functional as Fu\n",
        "import matplotlib.pyplot as plt\n",
        "from PIL import Image\n",
        "import matplotlib.pyplot as plt\n",
        "from torchvision.transforms.functional import to_pil_image\n",
        "from matplotlib import colormaps\n",
        "import numpy as np\n",
        "import PIL\n",
        "\n",
        "def gradCAM(img_tensor):\n",
        "    # show the actual image\n",
        "    plt.imshow(img_tensor.numpy().reshape((28,28,1)))\n",
        "\n",
        "    # calculate the output classsification\n",
        "    output = C(F(img_tensor.to(DEVICE).unsqueeze(0)))\n",
        "    print(output)\n",
        "    print(\"Classified as \", torch.argmax(output).item())\n",
        "\n",
        "    # calculate the gradients associated with the image\n",
        "    torch.sum(F(img_tensor.to(DEVICE).unsqueeze(0))).backward()\n",
        "\n",
        "    # calculate the average of the gradients\n",
        "    pooled_gradients = torch.mean(gradients[0], dim=[0, 2, 3])\n",
        "\n",
        "    # weight the channels by corresponding gradients\n",
        "    for i in range(activations.size()[1]):\n",
        "        activations[:, i, :, :] *= pooled_gradients[i]\n",
        "\n",
        "    # average the channels of the activations\n",
        "    heatmap = torch.mean(activations, dim=1).squeeze()\n",
        "\n",
        "    # relu on top of the heatmap\n",
        "    heatmap = Fu.relu(heatmap)\n",
        "\n",
        "    # normalize the heatmap\n",
        "    heatmap /= torch.max(heatmap)\n",
        "\n",
        "    # draw the heatmap\n",
        "    plt.matshow(heatmap.cpu().detach())\n",
        "\n",
        "    # Create a figure and plot the first image\n",
        "    fig, ax = plt.subplots()\n",
        "    ax.axis('off') # removes the axis markers\n",
        "\n",
        "    # First plot the original image\n",
        "    ax.imshow(to_pil_image(img_tensor, mode='F'))\n",
        "\n",
        "    # Resize the heatmap to the same size as the input image and defines\n",
        "    # a resample algorithm for increasing image resolution\n",
        "    # we need heatmap.detach() because it can't be converted to numpy array while\n",
        "    # requiring gradients\n",
        "    overlay = to_pil_image(heatmap.detach(), mode='F').resize((256,256), resample=PIL.Image.BICUBIC)\n",
        "\n",
        "    # Apply any colormap you want\n",
        "    cmap = colormaps['jet']\n",
        "    overlay = (255 * cmap(np.asarray(overlay) ** 2)[:, :, :3]).astype(np.uint8)\n",
        "\n",
        "    # Plot the heatmap on the same axes,\n",
        "    # but with alpha < 1 (this defines the transparency of the heatmap)\n",
        "    ax.imshow(overlay, alpha=0.4, interpolation='nearest')\n",
        "\n",
        "    # Show the plot\n",
        "    plt.show()"
      ],
      "metadata": {
        "id": "Cbf6YL4Rdi2N"
      },
      "execution_count": 150,
      "outputs": []
    },
    {
      "cell_type": "code",
      "source": [
        "from PIL import Image\n",
        "import matplotlib.pyplot as plt\n",
        "\n",
        "img_tensor = mnist_train[18][0]\n",
        "\n",
        "gradCAM(img_tensor)\n",
        "\n",
        "# backward_hook.remove()\n",
        "# forward_hook.remove()"
      ],
      "metadata": {
        "colab": {
          "base_uri": "https://localhost:8080/",
          "height": 1000
        },
        "id": "yYa3jTySdjgJ",
        "outputId": "3ada8b9a-1200-4e4d-bf71-990cab33201b"
      },
      "execution_count": 161,
      "outputs": [
        {
          "output_type": "stream",
          "name": "stdout",
          "text": [
            "Forward hook running\n",
            "Activations size: torch.Size([1, 512, 28, 28])\n",
            "tensor([-0.9527, -4.2499, -2.4438, -5.1747, -2.0851, -1.4284, -1.8120, -2.4151,\n",
            "        -1.2513, -2.3789], device='cuda:0', grad_fn=<ViewBackward0>)\n",
            "Classified as  0\n",
            "Forward hook running\n",
            "Activations size: torch.Size([1, 512, 28, 28])\n",
            "Backward hook running\n",
            "Gradients size: torch.Size([1, 512, 28, 28])\n"
          ]
        },
        {
          "output_type": "display_data",
          "data": {
            "text/plain": [
              "<Figure size 640x480 with 1 Axes>"
            ],
            "image/png": "[encoded data removed]"
          },
          "metadata": {}
        },
        {
          "output_type": "display_data",
          "data": {
            "text/plain": [
              "<Figure size 480x480 with 1 Axes>"
            ],
            "image/png": "[encoded data removed]"
          },
          "metadata": {}
        },
        {
          "output_type": "display_data",
          "data": {
            "text/plain": [
              "<Figure size 640x480 with 1 Axes>"
            ],
            "image/png": "[encoded data removed]"
          },
          "metadata": {}
        }
      ]
    },
    {
      "cell_type": "markdown",
      "source": [
        "MNIST-M"
      ],
      "metadata": {
        "id": "nKZAYXJEK3Py"
      }
    },
    {
      "cell_type": "code",
      "source": [
        "!git clone https://github.com/mashaan14/MNIST-M.git"
      ],
      "metadata": {
        "colab": {
          "base_uri": "https://localhost:8080/"
        },
        "id": "6FI3gcJNpjzT",
        "outputId": "e4c4e4d6-f6f0-48ac-bc08-1ea1c21b00c9"
      },
      "execution_count": 3,
      "outputs": [
        {
          "output_type": "stream",
          "name": "stdout",
          "text": [
            "Cloning into 'MNIST-M'...\n",
            "remote: Enumerating objects: 39, done.\u001b[K\n",
            "remote: Counting objects: 100% (39/39), done.\u001b[K\n",
            "remote: Compressing objects: 100% (37/37), done.\u001b[K\n",
            "remote: Total 39 (delta 19), reused 5 (delta 0), pack-reused 0\u001b[K\n",
            "Receiving objects: 100% (39/39), 1.57 MiB | 16.59 MiB/s, done.\n",
            "Resolving deltas: 100% (19/19), done.\n"
          ]
        }
      ]
    },
    {
      "cell_type": "code",
      "source": [
        "!unzip MNIST-M.zip"
      ],
      "metadata": {
        "id": "tO4HgRxjK6d8"
      },
      "execution_count": null,
      "outputs": []
    },
    {
      "cell_type": "code",
      "source": [
        "%ls"
      ],
      "metadata": {
        "colab": {
          "base_uri": "https://localhost:8080/"
        },
        "id": "SlIRM9bWPaTu",
        "outputId": "bfbde4d5-10ac-444d-fe1c-05b46ad257b4"
      },
      "execution_count": 42,
      "outputs": [
        {
          "output_type": "stream",
          "name": "stdout",
          "text": [
            "\u001b[0m\u001b[01;34mtesting\u001b[0m/  \u001b[01;34mtraining\u001b[0m/\n"
          ]
        }
      ]
    },
    {
      "cell_type": "code",
      "source": [],
      "metadata": {
        "id": "gd5wM0pTK_c8"
      },
      "execution_count": 43,
      "outputs": []
    },
    {
      "cell_type": "code",
      "source": [],
      "metadata": {
        "id": "TP94uV_6Pq-j"
      },
      "execution_count": null,
      "outputs": []
    }
  ]
}